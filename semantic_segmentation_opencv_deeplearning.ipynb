{
 "cells": [
  {
   "cell_type": "code",
   "execution_count": 11,
   "id": "62da91d2-20ff-40ca-be53-26449aa31f25",
   "metadata": {},
   "outputs": [],
   "source": [
    "# import the necessary packages\n",
    "import matplotlib.pyplot as plt\n",
    "import numpy as np\n",
    "import argparse\n",
    "import imutils\n",
    "import time\n",
    "import cv2"
   ]
  },
  {
   "cell_type": "code",
   "execution_count": 12,
   "id": "52897b27-082f-4bd0-856b-e5edebe8ae0d",
   "metadata": {},
   "outputs": [],
   "source": [
    "def plt_imshow(title, image):\n",
    "    # convert the image frame BGR to RGB color space and display it\n",
    "    image = cv2.cvtColor(image, cv2.COLOR_BGR2RGB)\n",
    "    plt.imshow(image)\n",
    "    plt.title(title)\n",
    "    plt.grid(False)\n",
    "    plt.show()"
   ]
  },
  {
   "cell_type": "code",
   "execution_count": 13,
   "id": "8fdd627c-5aea-4558-aa1e-5501fead7935",
   "metadata": {},
   "outputs": [],
   "source": [
    "args = {\n",
    "    \"model\": \"enet-cityscapes/enet-model.net\",\n",
    "    \"classes\": \"enet-cityscapes/enet-classes.txt\",\n",
    "    \"image\": \"images/example_01.png\",\n",
    "    \"colors\": \"enet-cityscapes/enet-colors.txt\",\n",
    "    \"width\": 500\n",
    "}"
   ]
  },
  {
   "cell_type": "code",
   "execution_count": 14,
   "id": "d33bf1a0-f4ac-47c6-af9f-fc3624851ded",
   "metadata": {},
   "outputs": [
    {
     "ename": "FileNotFoundError",
     "evalue": "[Errno 2] No such file or directory: 'enet-cityscapes/enet-classes.txt'",
     "output_type": "error",
     "traceback": [
      "\u001b[0;31m---------------------------------------------------------------------------\u001b[0m",
      "\u001b[0;31mFileNotFoundError\u001b[0m                         Traceback (most recent call last)",
      "\u001b[0;32m/var/folders/yc/gj8rkfbx1hg5h5jwhlgq4zh00000gn/T/ipykernel_2438/2038116685.py\u001b[0m in \u001b[0;36m<module>\u001b[0;34m\u001b[0m\n\u001b[1;32m      1\u001b[0m \u001b[0;31m# load the class label names\u001b[0m\u001b[0;34m\u001b[0m\u001b[0;34m\u001b[0m\u001b[0m\n\u001b[0;32m----> 2\u001b[0;31m \u001b[0mCLASSES\u001b[0m \u001b[0;34m=\u001b[0m \u001b[0mopen\u001b[0m\u001b[0;34m(\u001b[0m\u001b[0margs\u001b[0m\u001b[0;34m[\u001b[0m\u001b[0;34m\"classes\"\u001b[0m\u001b[0;34m]\u001b[0m\u001b[0;34m)\u001b[0m\u001b[0;34m.\u001b[0m\u001b[0mread\u001b[0m\u001b[0;34m(\u001b[0m\u001b[0;34m)\u001b[0m\u001b[0;34m.\u001b[0m\u001b[0mstrip\u001b[0m\u001b[0;34m(\u001b[0m\u001b[0;34m)\u001b[0m\u001b[0;34m.\u001b[0m\u001b[0msplit\u001b[0m\u001b[0;34m(\u001b[0m\u001b[0;34m\"\\n\"\u001b[0m\u001b[0;34m)\u001b[0m\u001b[0;34m\u001b[0m\u001b[0;34m\u001b[0m\u001b[0m\n\u001b[0m\u001b[1;32m      3\u001b[0m \u001b[0;34m\u001b[0m\u001b[0m\n\u001b[1;32m      4\u001b[0m \u001b[0;31m# if a colors file was supplied, load it from disk\u001b[0m\u001b[0;34m\u001b[0m\u001b[0;34m\u001b[0m\u001b[0m\n\u001b[1;32m      5\u001b[0m \u001b[0;32mif\u001b[0m \u001b[0margs\u001b[0m\u001b[0;34m[\u001b[0m\u001b[0;34m\"colors\"\u001b[0m\u001b[0;34m]\u001b[0m\u001b[0;34m:\u001b[0m\u001b[0;34m\u001b[0m\u001b[0;34m\u001b[0m\u001b[0m\n",
      "\u001b[0;31mFileNotFoundError\u001b[0m: [Errno 2] No such file or directory: 'enet-cityscapes/enet-classes.txt'"
     ]
    }
   ],
   "source": [
    "# load the class label names\n",
    "CLASSES = open(args[\"classes\"]).read().strip().split(\"\\n\")\n",
    "\n",
    "# if a colors file was supplied, load it from disk\n",
    "if args[\"colors\"]:\n",
    "    COLORS = open(args[\"colors\"]).read().strip().split(\"\\n\")\n",
    "    COLORS = [np.array(c.split(\",\")).astype(\"int\") for c in COLORS]\n",
    "    COLORS = np.array(COLORS, dtype=\"uint8\")\n",
    "\n",
    "# otherwise, we need to randomly generate RGB colors for each class\n",
    "# label\n",
    "else:\n",
    "    # initialize a list of colors to represent each class label in\n",
    "    # the mask (starting with 'black' for the background/unlabeled\n",
    "    # regions)\n",
    "    np.random.seed(42)\n",
    "    COLORS = np.random.randint(0, 255, size=(len(CLASSES) - 1, 3),\n",
    "        dtype=\"uint8\")\n",
    "    COLORS = np.vstack([[0, 0, 0], COLORS]).astype(\"uint8\")"
   ]
  },
  {
   "cell_type": "code",
   "execution_count": 8,
   "id": "596cc460-6e58-4343-bdc4-7b996572dd20",
   "metadata": {},
   "outputs": [
    {
     "ename": "NameError",
     "evalue": "name 'CLASSES' is not defined",
     "output_type": "error",
     "traceback": [
      "\u001b[0;31m---------------------------------------------------------------------------\u001b[0m",
      "\u001b[0;31mNameError\u001b[0m                                 Traceback (most recent call last)",
      "\u001b[0;32m/var/folders/yc/gj8rkfbx1hg5h5jwhlgq4zh00000gn/T/ipykernel_2438/1988233090.py\u001b[0m in \u001b[0;36m<module>\u001b[0;34m\u001b[0m\n\u001b[1;32m      1\u001b[0m \u001b[0;31m# initialize the legend visualization\u001b[0m\u001b[0;34m\u001b[0m\u001b[0;34m\u001b[0m\u001b[0m\n\u001b[0;32m----> 2\u001b[0;31m \u001b[0mlegend\u001b[0m \u001b[0;34m=\u001b[0m \u001b[0mnp\u001b[0m\u001b[0;34m.\u001b[0m\u001b[0mzeros\u001b[0m\u001b[0;34m(\u001b[0m\u001b[0;34m(\u001b[0m\u001b[0;34m(\u001b[0m\u001b[0mlen\u001b[0m\u001b[0;34m(\u001b[0m\u001b[0mCLASSES\u001b[0m\u001b[0;34m)\u001b[0m \u001b[0;34m*\u001b[0m \u001b[0;36m25\u001b[0m\u001b[0;34m)\u001b[0m \u001b[0;34m+\u001b[0m \u001b[0;36m25\u001b[0m\u001b[0;34m,\u001b[0m \u001b[0;36m300\u001b[0m\u001b[0;34m,\u001b[0m \u001b[0;36m3\u001b[0m\u001b[0;34m)\u001b[0m\u001b[0;34m,\u001b[0m \u001b[0mdtype\u001b[0m\u001b[0;34m=\u001b[0m\u001b[0;34m\"uint8\"\u001b[0m\u001b[0;34m)\u001b[0m\u001b[0;34m\u001b[0m\u001b[0;34m\u001b[0m\u001b[0m\n\u001b[0m\u001b[1;32m      3\u001b[0m \u001b[0;34m\u001b[0m\u001b[0m\n\u001b[1;32m      4\u001b[0m \u001b[0;31m# loop over the class names + colors\u001b[0m\u001b[0;34m\u001b[0m\u001b[0;34m\u001b[0m\u001b[0m\n\u001b[1;32m      5\u001b[0m \u001b[0;32mfor\u001b[0m \u001b[0;34m(\u001b[0m\u001b[0mi\u001b[0m\u001b[0;34m,\u001b[0m \u001b[0;34m(\u001b[0m\u001b[0mclassName\u001b[0m\u001b[0;34m,\u001b[0m \u001b[0mcolor\u001b[0m\u001b[0;34m)\u001b[0m\u001b[0;34m)\u001b[0m \u001b[0;32min\u001b[0m \u001b[0menumerate\u001b[0m\u001b[0;34m(\u001b[0m\u001b[0mzip\u001b[0m\u001b[0;34m(\u001b[0m\u001b[0mCLASSES\u001b[0m\u001b[0;34m,\u001b[0m \u001b[0mCOLORS\u001b[0m\u001b[0;34m)\u001b[0m\u001b[0;34m)\u001b[0m\u001b[0;34m:\u001b[0m\u001b[0;34m\u001b[0m\u001b[0;34m\u001b[0m\u001b[0m\n",
      "\u001b[0;31mNameError\u001b[0m: name 'CLASSES' is not defined"
     ]
    }
   ],
   "source": [
    "# initialize the legend visualization\n",
    "legend = np.zeros(((len(CLASSES) * 25) + 25, 300, 3), dtype=\"uint8\")\n",
    "\n",
    "# loop over the class names + colors\n",
    "for (i, (className, color)) in enumerate(zip(CLASSES, COLORS)):\n",
    "\t# draw the class name + color on the legend\n",
    "\tcolor = [int(c) for c in color]\n",
    "\tcv2.putText(legend, className, (5, (i * 25) + 17),\n",
    "\t\tcv2.FONT_HERSHEY_SIMPLEX, 0.5, (0, 0, 255), 2)\n",
    "\tcv2.rectangle(legend, (100, (i * 25)), (300, (i * 25) + 25),\n",
    "\t\ttuple(color), -1)"
   ]
  },
  {
   "cell_type": "code",
   "execution_count": null,
   "id": "b93a7e60-cbc8-47f7-bf09-d7aa02dcee76",
   "metadata": {},
   "outputs": [],
   "source": [
    "# load our serialized model from disk\n",
    "print(\"[INFO] loading model...\")\n",
    "net = cv2.dnn.readNet(args[\"model\"])\n",
    "\n",
    "# load the input image, resize it, and construct a blob from it,\n",
    "# but keeping mind mind that the original input image dimensions\n",
    "# ENet was trained on was 1024x512\n",
    "image = cv2.imread(args[\"image\"])\n",
    "image = imutils.resize(image, width=args[\"width\"])\n",
    "blob = cv2.dnn.blobFromImage(image, 1 / 255.0, (1024, 512), 0,\n",
    "\tswapRB=True, crop=False)\n",
    "\n",
    "# perform a forward pass using the segmentation model\n",
    "net.setInput(blob)\n",
    "start = time.time()\n",
    "output = net.forward()\n",
    "end = time.time()\n",
    "\n",
    "# show the amount of time inference took\n",
    "print(\"[INFO] inference took {:.4f} seconds\".format(end - start))"
   ]
  },
  {
   "cell_type": "code",
   "execution_count": null,
   "id": "c7c7b078-e1bc-4292-983a-ff3e26f203a8",
   "metadata": {},
   "outputs": [],
   "source": [
    "# infer the total number of classes along with the spatial dimensions\n",
    "# of the mask image via the shape of the output array\n",
    "(numClasses, height, width) = output.shape[1:4]\n",
    "\n",
    "# our output class ID map will be num_classes x height x width in\n",
    "# size, so we take the argmax to find the class label with the\n",
    "# largest probability for each and every (x, y)-coordinate in the\n",
    "# image\n",
    "classMap = np.argmax(output[0], axis=0)\n",
    "\n",
    "# given the class ID map, we can map each of the class IDs to its\n",
    "# corresponding color\n",
    "mask = COLORS[classMap]"
   ]
  },
  {
   "cell_type": "code",
   "execution_count": null,
   "id": "be93a7de-d79c-4939-b5ac-da37a1ffc643",
   "metadata": {},
   "outputs": [],
   "source": [
    "# resize the mask and class map such that its dimensions match the\n",
    "# original size of the input image (we're not using the class map\n",
    "# here for anything else but this is how you would resize it just in\n",
    "# case you wanted to extract specific pixels/classes)\n",
    "mask = cv2.resize(mask, (image.shape[1], image.shape[0]),\n",
    "\tinterpolation=cv2.INTER_NEAREST)\n",
    "classMap = cv2.resize(classMap, (image.shape[1], image.shape[0]),\n",
    "\tinterpolation=cv2.INTER_NEAREST)\n",
    "\n",
    "# perform a weighted combination of the input image with the mask to\n",
    "# form an output visualization\n",
    "output = ((0.4 * image) + (0.6 * mask)).astype(\"uint8\")\n",
    "\n",
    "# show the input and output images\n",
    "plt_imshow(\"Legend\", legend)\n",
    "plt_imshow(\"Input\", image)\n",
    "plt_imshow(\"Output\", output)"
   ]
  }
 ],
 "metadata": {
  "kernelspec": {
   "display_name": "deepl_env",
   "language": "python",
   "name": "deepl_env"
  },
  "language_info": {
   "codemirror_mode": {
    "name": "ipython",
    "version": 3
   },
   "file_extension": ".py",
   "mimetype": "text/x-python",
   "name": "python",
   "nbconvert_exporter": "python",
   "pygments_lexer": "ipython3",
   "version": "3.9.7"
  }
 },
 "nbformat": 4,
 "nbformat_minor": 5
}
